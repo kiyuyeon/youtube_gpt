{
 "cells": [
  {
   "cell_type": "code",
   "execution_count": null,
   "id": "747f5473",
   "metadata": {},
   "outputs": [],
   "source": [
    "# API 키를 환경변수로 관리하기 위한 설정 파일\n",
    "from dotenv import load_dotenv\n",
    "from langchain_community.document_loaders.blob_loaders.youtube_audio import YoutubeAudioLoader\n",
    "from langchain_community.document_loaders.generic import GenericLoader\n",
    "from langchain_community.document_loaders.parsers import OpenAIWhisperParser\n",
    "from langchain.chains import RetrievalQA\n",
    "from langchain.text_splitter import RecursiveCharacterTextSplitter\n",
    "from langchain_community.vectorstores import FAISS\n",
    "from langchain_openai import ChatOpenAI, OpenAIEmbeddings\n",
    "from langchain.callbacks.base import BaseCallbackHandler\n",
    "\n",
    "\n",
    "class StreamCallback(BaseCallbackHandler):\n",
    "    def on_llm_new_token(self, token: str, **kwargs):\n",
    "        print(f\"{token}\", end=\"\", flush=True)\n",
    "\n",
    "\n",
    "# API 키 정보 로드\n",
    "load_dotenv()\n",
    "\n",
    "# YouTube 동영상 URL\n",
    "urls = [\"\"]\n",
    "\n",
    "# 오디오 파일을 저장할 디렉토리\n",
    "save_dir = \"./youtube_audios/\"\n",
    "\n",
    "# 동영상을 텍스트로 변환\n",
    "loader = GenericLoader(YoutubeAudioLoader(\n",
    "    urls, save_dir), OpenAIWhisperParser())\n",
    "docs = loader.load()\n",
    "\n",
    "\n",
    "# 문서 결합\n",
    "# docs의 각 문서에서 page_content를 추출하여 combined_docs에 저장합니다.\n",
    "combined_docs = [doc.page_content for doc in docs]\n",
    "text = \" \".join(combined_docs)\n",
    "\n",
    "\n",
    "# 텍스트를 분할합니다.\n",
    "text_splitter = RecursiveCharacterTextSplitter(\n",
    "    chunk_size=1500, chunk_overlap=150)\n",
    "splits = text_splitter.split_text(text)\n",
    "\n",
    "\n",
    "# 색인을 구축합니다.\n",
    "embeddings = OpenAIEmbeddings()\n",
    "vectordb = FAISS.from_texts(splits, embeddings)\n",
    "\n",
    "# QA 체인 구축\n",
    "qa_chain = RetrievalQA.from_chain_type(\n",
    "    llm=ChatOpenAI(\n",
    "        model_name=\"gpt-4-turbo-preview\",\n",
    "        temperature=0,\n",
    "        streaming=True,\n",
    "        callbacks=[StreamCallback()],\n",
    "    ),\n",
    "    chain_type=\"stuff\",\n",
    "    retriever=vectordb.as_retriever(),\n",
    ")\n",
    "\n"
   ]
  },
  {
   "cell_type": "code",
   "execution_count": null,
   "id": "232c0cc8",
   "metadata": {},
   "outputs": [],
   "source": [
    "# 질문을 하세요!\n",
    "query = \"\"\n",
    "answer = qa_chain.invoke({\"query\": query})"
   ]
  }
 ],
 "metadata": {
  "kernelspec": {
   "display_name": "llm",
   "language": "python",
   "name": "python3"
  },
  "language_info": {
   "codemirror_mode": {
    "name": "ipython",
    "version": 3
   },
   "file_extension": ".py",
   "mimetype": "text/x-python",
   "name": "python",
   "nbconvert_exporter": "python",
   "pygments_lexer": "ipython3",
   "version": "3.11.11"
  }
 },
 "nbformat": 4,
 "nbformat_minor": 5
}
